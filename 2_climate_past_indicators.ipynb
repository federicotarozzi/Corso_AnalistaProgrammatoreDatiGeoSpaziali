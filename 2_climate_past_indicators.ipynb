{
  "cells": [
    {
      "cell_type": "markdown",
      "metadata": {
        "id": "view-in-github",
        "colab_type": "text"
      },
      "source": [
        "<a href=\"https://colab.research.google.com/github/federicotarozzi/Corso_AnalistaProgrammatoreDatiGeoSpaziali/blob/main/2_climate_past_indicators.ipynb\" target=\"_parent\"><img src=\"https://colab.research.google.com/assets/colab-badge.svg\" alt=\"Open In Colab\"/></a>"
      ]
    },
    {
      "cell_type": "markdown",
      "id": "9f3425e5",
      "metadata": {
        "id": "9f3425e5"
      },
      "source": [
        "# Climate indicators notebook of past records (2006 - 2022)"
      ]
    },
    {
      "cell_type": "markdown",
      "id": "b070fc7a",
      "metadata": {
        "id": "b070fc7a"
      },
      "source": [
        "This notebook aims to construct a table in which agricultural yield is correlated with climate indicators. Climate indicators are constructed from daily average minimum and mass temperature and daily cumulative precipitation. These indicators should represent the climatic condition during the growing period for each province for each year."
      ]
    },
    {
      "cell_type": "markdown",
      "id": "e062ecdf",
      "metadata": {
        "id": "e062ecdf"
      },
      "source": [
        "#### Libraries needed to be imported"
      ]
    },
    {
      "cell_type": "code",
      "execution_count": null,
      "id": "8b2ff56d",
      "metadata": {
        "id": "8b2ff56d"
      },
      "outputs": [],
      "source": [
        "import pandas as pd\n",
        "import numpy as np"
      ]
    },
    {
      "cell_type": "markdown",
      "id": "4ea8d035",
      "metadata": {
        "id": "4ea8d035"
      },
      "source": [
        "#### Dataset upload\n",
        "\n",
        "Columns of climate dataset (df) needed: 'Tmax', 'Tmin', 'Tavg', 'prec', 'Province','Year', 'Month'"
      ]
    },
    {
      "cell_type": "code",
      "execution_count": null,
      "id": "7979ac08",
      "metadata": {
        "tags": [],
        "id": "7979ac08"
      },
      "outputs": [],
      "source": [
        "df = pd.read_csv('Data/climate_data/climate_def.csv') #climate data"
      ]
    },
    {
      "cell_type": "markdown",
      "id": "cb66b4b2",
      "metadata": {
        "id": "cb66b4b2"
      },
      "source": [
        "__________________________________________________________________________________________________________________________________________________"
      ]
    },
    {
      "cell_type": "markdown",
      "id": "9dcfcccc",
      "metadata": {
        "id": "9dcfcccc"
      },
      "source": [
        "### TEMPERATURE INDICES\n",
        "From daily temperature dataset (df)"
      ]
    },
    {
      "cell_type": "code",
      "execution_count": null,
      "id": "980760fe",
      "metadata": {
        "id": "980760fe"
      },
      "outputs": [],
      "source": [
        "temp_d = df.copy() #dataframe for the overall cultivation period\n",
        "temp_d_Q2 = temp_d[temp_d['Month'] <= 6] # Q2 = spring (from april to june)\n",
        "temp_d_Q3 = temp_d[(temp_d['Month'] > 6) & (temp_d['Month'] <= 9)] # Q3 = sammer (from july to september)"
      ]
    },
    {
      "cell_type": "markdown",
      "id": "27d73370",
      "metadata": {
        "id": "27d73370"
      },
      "source": [
        "##### Indices referring to the entire cultivation period (tot = Q2 + Q3)"
      ]
    },
    {
      "cell_type": "code",
      "execution_count": null,
      "id": "030ac557",
      "metadata": {
        "id": "030ac557"
      },
      "outputs": [],
      "source": [
        "thresholds = {\n",
        "    'tr_tot': temp_d[temp_d['Tmin'] >= 25], # number of tropical nights (Tmin > 25°C)\n",
        "    'su_tot': temp_d[temp_d['Tmax'] >= 25], # number of summer days (Tmax > 25°C)\n",
        "    'd tmax>30_tot': temp_d[temp_d['Tmax'] >= 30], # number of days when the Tmax exceeded 30°C\n",
        "    'd tmax>35_tot': temp_d[temp_d['Tmax'] >= 35], # number of days when the Tmax exceeded 35°C\n",
        "    'd tmax>40_tot': temp_d[temp_d['Tmax'] >= 40], # number of days when the Tmax exceeded 40°C\n",
        "    'd tmix<10_tot': temp_d[temp_d['Tmin'] <= 10], # number of days when the Tmin is estimated to be below 10°C\n",
        "    'd tmix<19_tot': temp_d[temp_d['Tmin'] <= 19] # number of days when the Tmin is estimated to be below 19°C\n",
        "}\n",
        "\n",
        "df_thresholds_t = temp_d[['Year', 'Province']].drop_duplicates()\n",
        "\n",
        "for threshold_name, threshold in thresholds.items():\n",
        "    threshold_group = threshold.groupby(['Year', 'Province']).size().reset_index(name = threshold_name)\n",
        "    df_thresholds_t = pd.merge(df_thresholds_t, threshold_group, how='left', on=['Year', 'Province'])\n",
        "    df_thresholds_t[threshold_name].fillna(0, inplace=True)\n"
      ]
    },
    {
      "cell_type": "markdown",
      "id": "36250102",
      "metadata": {
        "id": "36250102"
      },
      "source": [
        "##### Indices referred to the first quarter (spring)"
      ]
    },
    {
      "cell_type": "code",
      "execution_count": null,
      "id": "efd024d9",
      "metadata": {
        "id": "efd024d9"
      },
      "outputs": [],
      "source": [
        "thresholds_Q2 = {\n",
        "    'tr_Q2': temp_d_Q2[temp_d_Q2['Tmin'] >= 25], # number of tropical nights (Tmin > 25°C)\n",
        "    'su_Q2': temp_d_Q2[temp_d_Q2['Tmax'] >= 25], # number of summer days (Tmax > 25°C)\n",
        "    'd_tmax>30_Q2': temp_d_Q2[temp_d_Q2['Tmax'] >= 30], # number of days when the Tmax exceeded 30°C\n",
        "    'd_tmax>35_Q2': temp_d_Q2[temp_d_Q2['Tmax'] >= 35], # number of days when the Tmax exceeded 35°C\n",
        "    'd_tmax>40_Q2': temp_d_Q2[temp_d_Q2['Tmax'] >= 40], # number of days when the Tmax exceeded 40°C\n",
        "    'd_tmix<10_Q2': temp_d_Q2[temp_d_Q2['Tmin'] <= 10], # number of days when the Tmin is estimated to be below 10°C\n",
        "    'd_tmix<19_Q2': temp_d_Q2[temp_d_Q2['Tmin'] <= 19] # number of days when the Tmin is estimated to be below 19°C\n",
        "}\n",
        "\n",
        "# Crea un dataframe vuoto per i risultati\n",
        "df_thresholds_t_Q2 = temp_d_Q2[['Year', 'Province']].drop_duplicates()\n",
        "\n",
        "# Per ogni soglia, esegui i passaggi richiesti e aggiungi i risultati al dataframe\n",
        "for threshold_name_Q2, threshold_Q2 in thresholds_Q2.items():\n",
        "    threshold_group_Q2 = threshold_Q2.groupby(['Year', 'Province']).size().reset_index(name = threshold_name_Q2)\n",
        "    df_thresholds_t_Q2 = pd.merge(df_thresholds_t_Q2, threshold_group_Q2, how='left', on=['Year', 'Province'])\n",
        "    df_thresholds_t_Q2[threshold_name_Q2].fillna(0, inplace=True)\n"
      ]
    },
    {
      "cell_type": "markdown",
      "id": "1eccb8e6",
      "metadata": {
        "id": "1eccb8e6"
      },
      "source": [
        "##### Indices referred to the second quarter (Summer)"
      ]
    },
    {
      "cell_type": "code",
      "execution_count": null,
      "id": "47403afb",
      "metadata": {
        "id": "47403afb"
      },
      "outputs": [],
      "source": [
        "thresholds_Q3 = {\n",
        "    'tr_Q3': temp_d_Q3[temp_d_Q3['Tmin'] >= 25], # number of tropical nights (Tmin > 25°C)\n",
        "    'su_Q3': temp_d_Q3[temp_d_Q3['Tmax'] >= 25], # number of summer days (Tmax > 25°C)\n",
        "    'd_tmax>30_Q3': temp_d_Q3[temp_d_Q3['Tmax'] >= 30], # number of days when the Tmax exceeded 30°C\n",
        "    'd_tmax>35_Q3': temp_d_Q3[temp_d_Q3['Tmax'] >= 35], # number of days when the Tmax exceeded 35°C\n",
        "    'd_tmax>40_Q3': temp_d_Q3[temp_d_Q3['Tmax'] >= 40], # number of days when the Tmax exceeded 40°C\n",
        "    'd_tmix<10_Q3': temp_d_Q3[temp_d_Q3['Tmin'] <= 10], # number of days when the Tmin is estimated to be below 10°C\n",
        "    'd_tmix<19_Q3': temp_d_Q3[temp_d_Q3['Tmin'] <= 19] # number of days when the Tmin is estimated to be below 19°C\n",
        "}\n",
        "\n",
        "df_thresholds_t_Q3 = temp_d_Q3[['Year', 'Province']].drop_duplicates()\n",
        "\n",
        "for threshold_name_Q3, threshold_Q3 in thresholds_Q3.items():\n",
        "    threshold_group_Q3 = threshold_Q3.groupby(['Year', 'Province']).size().reset_index(name = threshold_name_Q3)\n",
        "    df_thresholds_t_Q3 = pd.merge(df_thresholds_t_Q3, threshold_group_Q3, how='left', on=['Year', 'Province'])\n",
        "    df_thresholds_t_Q3[threshold_name_Q3].fillna(0, inplace=True)\n"
      ]
    },
    {
      "cell_type": "markdown",
      "id": "265f12a2",
      "metadata": {
        "id": "265f12a2"
      },
      "source": [
        "##### Heatwaves indices"
      ]
    },
    {
      "cell_type": "code",
      "execution_count": null,
      "id": "ad504f77",
      "metadata": {
        "id": "ad504f77"
      },
      "outputs": [],
      "source": [
        "imp1 = {\n",
        "    'name': 'wave>2d_30',\n",
        "    'variable': 'Tmax',\n",
        "    'thresholdT': 30,\n",
        "    'n_days': 2\n",
        "}\n",
        "\n",
        "imp_used1 = imp1\n",
        "\n",
        "name = imp_used1['name']\n",
        "variable = imp_used1['variable']\n",
        "thresholdT = imp_used1['thresholdT']\n",
        "n_days = imp_used1['n_days']\n",
        "\n",
        "temp_d[name] = (temp_d[variable] <= thresholdT).cumsum()\n",
        "temp_d_filtered = temp_d[temp_d[variable] >= thresholdT]\n",
        "day_count_t = temp_d_filtered.groupby(['Province','Year', name]).size().reset_index(name='Days')\n",
        "day_count_tn = day_count_t[day_count_t['Days'] >= n_days]\n",
        "heatwave1 = day_count_tn.groupby(['Province','Year'])[name].nunique().reset_index()"
      ]
    },
    {
      "cell_type": "code",
      "execution_count": null,
      "id": "96fa5067",
      "metadata": {
        "id": "96fa5067"
      },
      "outputs": [],
      "source": [
        "imp2 = {\n",
        "    'name': 'wave>3d_25',\n",
        "    'variable': 'Tmax',\n",
        "    'thresholdT': 25,\n",
        "    'n_days': 2\n",
        "}\n",
        "\n",
        "imp_used2 = imp2\n",
        "\n",
        "name = imp_used2['name']\n",
        "variable = imp_used2['variable']\n",
        "thresholdT = imp_used2['thresholdT']\n",
        "n_days = imp_used2['n_days']\n",
        "\n",
        "temp_d[name] = (temp_d[variable] <= thresholdT).cumsum()\n",
        "temp_d_filtered = temp_d[temp_d[variable] >= thresholdT]\n",
        "day_count_t = temp_d_filtered.groupby(['Province','Year', name]).size().reset_index(name='Days')\n",
        "day_count_tn = day_count_t[day_count_t['Days'] >= n_days]\n",
        "heatwave2 = day_count_tn.groupby(['Province','Year'])[name].nunique().reset_index()"
      ]
    },
    {
      "cell_type": "code",
      "execution_count": null,
      "id": "1aed9c8c",
      "metadata": {
        "id": "1aed9c8c"
      },
      "outputs": [],
      "source": [
        "imp3 = {\n",
        "    'name': 'wave>4d_20',\n",
        "    'variable': 'Tmax',\n",
        "    'thresholdT': 20,\n",
        "    'n_days':4\n",
        "}\n",
        "\n",
        "imp_used3 = imp3\n",
        "\n",
        "name = imp_used3['name']\n",
        "variable = imp_used3['variable']\n",
        "thresholdT = imp_used3['thresholdT']\n",
        "n_days = imp_used3['n_days']\n",
        "\n",
        "temp_d[name] = (temp_d[variable] <= thresholdT).cumsum()\n",
        "temp_d_filtered = temp_d[temp_d[variable] >= thresholdT]\n",
        "day_count_t = temp_d_filtered.groupby(['Province','Year', name]).size().reset_index(name='Days')\n",
        "day_count_tn = day_count_t[day_count_t['Days'] >= n_days]\n",
        "heatwave3 = day_count_tn.groupby(['Province','Year'])[name].nunique().reset_index()"
      ]
    },
    {
      "cell_type": "code",
      "execution_count": null,
      "id": "6333abcc",
      "metadata": {
        "id": "6333abcc"
      },
      "outputs": [],
      "source": [
        "waves_df = pd.merge(heatwave1, pd.merge(heatwave2,\n",
        "                                             heatwave3,\n",
        "                                             on=['Province','Year']), on=['Province','Year'])"
      ]
    },
    {
      "cell_type": "markdown",
      "id": "98ccba4b",
      "metadata": {
        "id": "98ccba4b"
      },
      "source": [
        "##### GDD (growing degrees days)"
      ]
    },
    {
      "cell_type": "code",
      "execution_count": null,
      "id": "606bd6c7",
      "metadata": {
        "id": "606bd6c7"
      },
      "outputs": [],
      "source": [
        "zero_veg = 10\n",
        "temp_d['GGD'] = np.maximum(temp_d['Tavg'] - zero_veg, 0)"
      ]
    },
    {
      "cell_type": "code",
      "execution_count": null,
      "id": "67e40e58",
      "metadata": {
        "id": "67e40e58"
      },
      "outputs": [],
      "source": [
        "GGD_tot = temp_d.groupby(['Year','Province'])['GGD'].sum().reset_index()"
      ]
    },
    {
      "cell_type": "markdown",
      "id": "ab4e905b",
      "metadata": {
        "id": "ab4e905b"
      },
      "source": [
        "#### Merged temperature dataset"
      ]
    },
    {
      "cell_type": "code",
      "execution_count": null,
      "id": "5ea02fa6",
      "metadata": {
        "id": "5ea02fa6"
      },
      "outputs": [],
      "source": [
        "df_temp_indices = pd.merge(df_thresholds_t, pd.merge(df_thresholds_t_Q2, df_thresholds_t_Q3,\n",
        "                                                on=['Province','Year']),\n",
        "                                                on=['Province','Year'])\n",
        "df_temp_indices = pd.merge(df_temp_indices, waves_df, on=['Province','Year'])\n",
        "df_temp_indices2 = df_temp_indices.merge(GGD_tot, on=['Province','Year'])"
      ]
    },
    {
      "cell_type": "markdown",
      "id": "f8332c7c",
      "metadata": {
        "id": "f8332c7c"
      },
      "source": [
        "___________________________________________________________________________________________________________________________________________"
      ]
    },
    {
      "cell_type": "markdown",
      "id": "97319502",
      "metadata": {
        "id": "97319502"
      },
      "source": [
        "### PRECIPITATION INDICES"
      ]
    },
    {
      "cell_type": "markdown",
      "id": "396ddd9d",
      "metadata": {
        "id": "396ddd9d"
      },
      "source": [
        "From daily precipitation dataset (df)"
      ]
    },
    {
      "cell_type": "code",
      "execution_count": null,
      "id": "df06decc",
      "metadata": {
        "id": "df06decc"
      },
      "outputs": [],
      "source": [
        "prec_d = df.copy()\n",
        "prec_d_Q2 = prec_d[prec_d['Month'] <= 6]\n",
        "prec_d_Q3 = prec_d[(prec_d['Month'] > 6) & (prec_d['Month'] <= 9)]"
      ]
    },
    {
      "cell_type": "markdown",
      "id": "588a2bf2",
      "metadata": {
        "id": "588a2bf2"
      },
      "source": [
        "#### Indices referring to the entire cultivation period"
      ]
    },
    {
      "cell_type": "markdown",
      "id": "1c996598",
      "metadata": {
        "id": "1c996598"
      },
      "source": [
        "##### Cumulate precipitation"
      ]
    },
    {
      "cell_type": "code",
      "execution_count": null,
      "id": "7dd758be",
      "metadata": {
        "id": "7dd758be"
      },
      "outputs": [],
      "source": [
        "cumulate_tot = prec_d.groupby(['Year','Province'])['prec'].sum().reset_index()\n",
        "cumulate_tot = cumulate_tot.rename(columns={'prec': 'Prec_cumulate_tot'})"
      ]
    },
    {
      "cell_type": "markdown",
      "id": "4a24c475",
      "metadata": {
        "id": "4a24c475"
      },
      "source": [
        "##### Number of days on which precipitation occurred"
      ]
    },
    {
      "cell_type": "code",
      "execution_count": null,
      "id": "0e003711",
      "metadata": {
        "tags": [],
        "id": "0e003711"
      },
      "outputs": [],
      "source": [
        "filter_days_prec_tot = prec_d[prec_d['prec'] != 0]"
      ]
    },
    {
      "cell_type": "code",
      "execution_count": null,
      "id": "a056f2cc",
      "metadata": {
        "id": "a056f2cc"
      },
      "outputs": [],
      "source": [
        "days_prec_tot = filter_days_prec_tot.groupby(['Year','Province']).size().reset_index(name='d_prec_tot')\n",
        "\n",
        "regions_days_prec_tot = pd.merge(prec_d[['Year','Province']].drop_duplicates(), days_prec_tot,\n",
        "                                   how='left', on=['Year','Province'])\n",
        "\n",
        "regions_days_prec_tot['d_prec_tot'].fillna(0, inplace=True)"
      ]
    },
    {
      "cell_type": "markdown",
      "id": "04375b76",
      "metadata": {
        "id": "04375b76"
      },
      "source": [
        "##### Precipitation intensity"
      ]
    },
    {
      "cell_type": "code",
      "execution_count": null,
      "id": "42a2e8f0",
      "metadata": {
        "id": "42a2e8f0"
      },
      "outputs": [],
      "source": [
        "prec_year = pd.merge(cumulate_tot, regions_days_prec_tot, on=['Year','Province'])"
      ]
    },
    {
      "cell_type": "code",
      "execution_count": null,
      "id": "4bd65bf6",
      "metadata": {
        "id": "4bd65bf6"
      },
      "outputs": [],
      "source": [
        "prec_year['prec_intensity_tot']= prec_year['Prec_cumulate_tot']/prec_year['d_prec_tot']"
      ]
    },
    {
      "cell_type": "markdown",
      "id": "1c74125c",
      "metadata": {
        "id": "1c74125c"
      },
      "source": [
        "#### INDICES REFERRED TO THE FIRST QUARTER Q2 (Spring)."
      ]
    },
    {
      "cell_type": "markdown",
      "id": "734fc096",
      "metadata": {
        "id": "734fc096"
      },
      "source": [
        "##### Cumulate precipitation Q2"
      ]
    },
    {
      "cell_type": "code",
      "execution_count": null,
      "id": "77c13e60",
      "metadata": {
        "id": "77c13e60"
      },
      "outputs": [],
      "source": [
        "cumulate_Q2 = prec_d_Q2.groupby(['Year','Province'])['prec'].sum().reset_index()\n",
        "\n",
        "cumulate_Q2 = cumulate_Q2.rename(columns={'prec': 'Prec_cumulate_Q2'})"
      ]
    },
    {
      "cell_type": "markdown",
      "id": "8c7db045",
      "metadata": {
        "id": "8c7db045"
      },
      "source": [
        "##### Number of days on which precipitation occurred in Q2"
      ]
    },
    {
      "cell_type": "code",
      "execution_count": null,
      "id": "4a41d897",
      "metadata": {
        "id": "4a41d897"
      },
      "outputs": [],
      "source": [
        "filter_days_prec_Q2 = prec_d_Q2[prec_d_Q2['prec'] != 0]"
      ]
    },
    {
      "cell_type": "code",
      "execution_count": null,
      "id": "7207a0c6",
      "metadata": {
        "id": "7207a0c6"
      },
      "outputs": [],
      "source": [
        "days_prec_Q2 = filter_days_prec_Q2.groupby(['Year','Province']).size().reset_index(name='d_prec_Q2')\n",
        "\n",
        "regions_days_prec_Q2 = pd.merge(prec_d_Q2[['Year','Province']].drop_duplicates(), days_prec_Q2,\n",
        "                                   how='left', on=['Year','Province'])\n",
        "\n",
        "regions_days_prec_Q2['d_prec_Q2'].fillna(0, inplace=True)"
      ]
    },
    {
      "cell_type": "markdown",
      "id": "a67d1067",
      "metadata": {
        "id": "a67d1067"
      },
      "source": [
        "##### Precipitation intensity Q2"
      ]
    },
    {
      "cell_type": "code",
      "execution_count": null,
      "id": "495bef1d",
      "metadata": {
        "id": "495bef1d"
      },
      "outputs": [],
      "source": [
        "prec_Q2 = pd.merge(cumulate_Q2, regions_days_prec_Q2, on=['Year','Province'])"
      ]
    },
    {
      "cell_type": "code",
      "execution_count": null,
      "id": "58d05903",
      "metadata": {
        "id": "58d05903"
      },
      "outputs": [],
      "source": [
        "prec_Q2['prec_intensity_Q2']= prec_Q2['Prec_cumulate_Q2']/prec_Q2['d_prec_Q2']"
      ]
    },
    {
      "cell_type": "markdown",
      "id": "6830a446",
      "metadata": {
        "id": "6830a446"
      },
      "source": [
        "#### INDICES REFERRED TO THE SECOND QUARTER Q3 (Summer)."
      ]
    },
    {
      "cell_type": "markdown",
      "id": "2368dd4a",
      "metadata": {
        "id": "2368dd4a"
      },
      "source": [
        "##### Cumulate precipitation Q3"
      ]
    },
    {
      "cell_type": "code",
      "execution_count": null,
      "id": "c90f1a83",
      "metadata": {
        "id": "c90f1a83"
      },
      "outputs": [],
      "source": [
        "cumulate_Q3 = prec_d_Q3.groupby(['Year','Province'])['prec'].sum().reset_index()\n",
        "\n",
        "cumulate_Q3 = cumulate_Q3.rename(columns={'prec': 'Prec_cumulate_Q3'})"
      ]
    },
    {
      "cell_type": "markdown",
      "id": "88014299",
      "metadata": {
        "id": "88014299"
      },
      "source": [
        "##### Number of days on which precipitation occurred in Q3"
      ]
    },
    {
      "cell_type": "code",
      "execution_count": null,
      "id": "e97fa420",
      "metadata": {
        "id": "e97fa420"
      },
      "outputs": [],
      "source": [
        "filter_days_prec_Q3 = prec_d_Q3[prec_d_Q3['prec'] != 0]"
      ]
    },
    {
      "cell_type": "code",
      "execution_count": null,
      "id": "7609b226",
      "metadata": {
        "id": "7609b226"
      },
      "outputs": [],
      "source": [
        "days_prec_Q3 = filter_days_prec_Q3.groupby(['Year','Province']).size().reset_index(name='d_prec_Q3')\n",
        "\n",
        "regions_days_prec_Q3 = pd.merge(prec_d_Q3[['Year','Province']].drop_duplicates(), days_prec_Q3,\n",
        "                                   how='left', on=['Year','Province'])\n",
        "\n",
        "regions_days_prec_Q3['d_prec_Q3'].fillna(0, inplace=True)"
      ]
    },
    {
      "cell_type": "markdown",
      "id": "e08824b6",
      "metadata": {
        "id": "e08824b6"
      },
      "source": [
        "##### Intensity of precipitation Q3"
      ]
    },
    {
      "cell_type": "code",
      "execution_count": null,
      "id": "ec4eaa1f",
      "metadata": {
        "id": "ec4eaa1f"
      },
      "outputs": [],
      "source": [
        "prec_Q3 = pd.merge(cumulate_Q3, regions_days_prec_Q3, on=['Year','Province'])"
      ]
    },
    {
      "cell_type": "code",
      "execution_count": null,
      "id": "d55de887",
      "metadata": {
        "id": "d55de887"
      },
      "outputs": [],
      "source": [
        "prec_Q3['prec_intensity_Q3']= prec_Q3['Prec_cumulate_Q3']/prec_Q3['d_prec_Q3']"
      ]
    },
    {
      "cell_type": "markdown",
      "id": "2301c577",
      "metadata": {
        "id": "2301c577"
      },
      "source": [
        "#### Merge precipitation indicators"
      ]
    },
    {
      "cell_type": "code",
      "execution_count": null,
      "id": "98ec5fb3",
      "metadata": {
        "id": "98ec5fb3"
      },
      "outputs": [],
      "source": [
        "merged_df1 = pd.merge(prec_Q3, prec_Q2, on=['Year','Province'], how='inner', suffixes=('_Q3', '_Q2'))\n",
        "prec_df = pd.merge(merged_df1, prec_year, on=[ 'Province', 'Year'], how='inner')"
      ]
    },
    {
      "cell_type": "code",
      "execution_count": null,
      "id": "5c0a8489",
      "metadata": {
        "id": "5c0a8489"
      },
      "outputs": [],
      "source": [
        "df_indices = pd.merge(prec_df, df_temp_indices2, on=['Province', 'Year'])"
      ]
    },
    {
      "cell_type": "code",
      "execution_count": null,
      "id": "b544aeba",
      "metadata": {
        "id": "b544aeba",
        "outputId": "60974c57-7e64-4abe-eb87-c0fdcea71d3a"
      },
      "outputs": [
        {
          "data": {
            "text/plain": [
              "Index(['Year', 'Province', 'Prec_cumulate_Q3', 'd_prec_Q3',\n",
              "       'prec_intensity_Q3', 'Prec_cumulate_Q2', 'd_prec_Q2',\n",
              "       'prec_intensity_Q2', 'Prec_cumulate_tot', 'd_prec_tot',\n",
              "       'prec_intensity_tot', 'tr_tot', 'su_tot', 'd tmax>30_tot',\n",
              "       'd tmax>35_tot', 'd tmax>40_tot', 'd tmix<10_tot', 'd tmix<19_tot',\n",
              "       'tr_Q2', 'su_Q2', 'd_tmax>30_Q2', 'd_tmax>35_Q2', 'd_tmax>40_Q2',\n",
              "       'd_tmix<10_Q2', 'd_tmix<19_Q2', 'tr_Q3', 'su_Q3', 'd_tmax>30_Q3',\n",
              "       'd_tmax>35_Q3', 'd_tmax>40_Q3', 'd_tmix<10_Q3', 'd_tmix<19_Q3',\n",
              "       'wave>2d_30', 'wave>3d_25', 'wave>4d_20', 'GGD'],\n",
              "      dtype='object')"
            ]
          },
          "execution_count": 32,
          "metadata": {},
          "output_type": "execute_result"
        }
      ],
      "source": [
        "df_indices.columns"
      ]
    },
    {
      "cell_type": "markdown",
      "id": "9166e62d",
      "metadata": {
        "id": "9166e62d"
      },
      "source": [
        "____________________________________________________________________________________________________________________________________"
      ]
    },
    {
      "cell_type": "markdown",
      "id": "f9f78a69",
      "metadata": {
        "id": "f9f78a69"
      },
      "source": [
        "#### Save dataset in CSV"
      ]
    },
    {
      "cell_type": "code",
      "execution_count": null,
      "id": "22bee91c",
      "metadata": {
        "id": "22bee91c"
      },
      "outputs": [],
      "source": [
        "df_indices.to_csv('Data/climate_indicators.csv.csv', index=False)"
      ]
    },
    {
      "cell_type": "code",
      "execution_count": null,
      "id": "651d81c0",
      "metadata": {
        "id": "651d81c0"
      },
      "outputs": [],
      "source": []
    }
  ],
  "metadata": {
    "kernelspec": {
      "display_name": "Python 3",
      "language": "python",
      "name": "python3"
    },
    "language_info": {
      "codemirror_mode": {
        "name": "ipython",
        "version": 3
      },
      "file_extension": ".py",
      "mimetype": "text/x-python",
      "name": "python",
      "nbconvert_exporter": "python",
      "pygments_lexer": "ipython3",
      "version": "3.8.6"
    },
    "colab": {
      "provenance": [],
      "include_colab_link": true
    }
  },
  "nbformat": 4,
  "nbformat_minor": 5
}